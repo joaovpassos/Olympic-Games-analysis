{
 "cells": [
  {
   "cell_type": "markdown",
   "id": "1822db4c-69fd-4970-8b5c-c9ac9130cc48",
   "metadata": {},
   "source": [
    "## Limpeza de dados: Projeto Olimpíadas"
   ]
  },
  {
   "cell_type": "markdown",
   "id": "dc3217fa-cc21-4407-9a6c-5031e6d60f92",
   "metadata": {},
   "source": [
    "##### Nesse projeto, irei coletar dados dos quadros de medalhas dos jogos olímpicos desde 2000 e organizá-los."
   ]
  },
  {
   "cell_type": "markdown",
   "id": "11a10f48-5171-4419-8df6-bee4a089c556",
   "metadata": {},
   "source": [
    "1. Primeiramente, importo as bibliotecas que irei utilizar no tratamento."
   ]
  },
  {
   "cell_type": "code",
   "execution_count": 1,
   "id": "a1ee0e97-ab98-4ff4-93ca-c13df5e3f2c0",
   "metadata": {},
   "outputs": [],
   "source": [
    "import pandas as pd\n",
    "import numpy as np\n",
    "import matplotlib.pyplot as plt"
   ]
  },
  {
   "cell_type": "code",
   "execution_count": 2,
   "id": "f4c2e12d-1445-4444-b900-76b22410ac0e",
   "metadata": {},
   "outputs": [],
   "source": [
    "#df_2020 = pd.read_html(\"https://pt.wikipedia.org/wiki/Quadro_de_medalhas_dos_Jogos_Ol%C3%ADmpicos_de_Ver%C3%A3o_de_2020\")\n",
    "#df_2016 = pd.read_html(\"https://pt.wikipedia.org/wiki/Quadro_de_medalhas_dos_Jogos_Ol%C3%ADmpicos_de_Ver%C3%A3o_de_2016\")\n",
    "#df_2012 = pd.read_html(\"https://pt.wikipedia.org/wiki/Quadro_de_medalhas_dos_Jogos_Ol%C3%ADmpicos_de_Ver%C3%A3o_de_2012\")\n",
    "#df_2008 = pd.read_html(\"https://pt.wikipedia.org/wiki/Quadro_de_medalhas_dos_Jogos_Ol%C3%ADmpicos_de_Ver%C3%A3o_de_2008\")\n",
    "#df_2004 = pd.read_html(\"https://pt.wikipedia.org/wiki/Quadro_de_medalhas_dos_Jogos_Ol%C3%ADmpicos_de_Ver%C3%A3o_de_2004\")\n",
    "#df_2000 = pd.read_html(\"https://pt.wikipedia.org/wiki/Quadro_de_medalhas_dos_Jogos_Ol%C3%ADmpicos_de_Ver%C3%A3o_de_2000\")"
   ]
  },
  {
   "cell_type": "markdown",
   "id": "2b03dcb5-14f3-4808-9534-9da1596324d9",
   "metadata": {},
   "source": [
    "2. Importo os arquivos CSVs que foram gerados a partir de tabelas dos quadros de medalhas no site Wikipedia."
   ]
  },
  {
   "cell_type": "code",
   "execution_count": 3,
   "id": "169ce98d-6012-4cad-82c3-953a8acd8251",
   "metadata": {},
   "outputs": [],
   "source": [
    "df20 = pd.read_csv(\"df_2020.csv\")\n",
    "df16 = pd.read_csv(\"df_2016.csv\")\n",
    "df12 = pd.read_csv(\"df_2012.csv\")\n",
    "df08 = pd.read_csv(\"df_2008.csv\")\n",
    "df04 = pd.read_csv(\"df_2004.csv\")\n",
    "df00 = pd.read_csv(\"df_2000.csv\")"
   ]
  },
  {
   "cell_type": "code",
   "execution_count": 4,
   "id": "03a4b468-8f9f-4b83-94fd-faf58b27bbae",
   "metadata": {},
   "outputs": [],
   "source": [
    "#df16 = df_2016[1]\n",
    "#df12 = df_2012[1]\n",
    "#df08 = df_2008[1]\n",
    "#df04 = df_2004[0]\n",
    "#df00 = df_2000[0]"
   ]
  },
  {
   "cell_type": "markdown",
   "id": "1203c0a5-9749-4119-a6ca-477c0e25100a",
   "metadata": {},
   "source": [
    "3. A partir daqui, irei utilizar operadores de repetição para varrer a lista ```df``` que contém os cinco dataframes com as informações referentes ao quadro de medalhas."
   ]
  },
  {
   "cell_type": "code",
   "execution_count": 5,
   "id": "7092de2b-fedb-47b4-8b9b-b58635eefa3c",
   "metadata": {},
   "outputs": [],
   "source": [
    "df = [df20, df16, df12, df08, df04, df00]"
   ]
  },
  {
   "cell_type": "code",
   "execution_count": 6,
   "id": "363d783d-8b5c-4b68-99e3-a72fd9bdbd83",
   "metadata": {},
   "outputs": [],
   "source": [
    "for i in df: #EXCLUO A COLUNA Ordem DE TODOS OS DATAFRAMES.\n",
    "    i.drop(columns=[\"Ordem\"], inplace=True)"
   ]
  },
  {
   "cell_type": "code",
   "execution_count": 7,
   "id": "a6f2a1ce-63e3-405a-98f6-d4ab72dbe8a8",
   "metadata": {},
   "outputs": [],
   "source": [
    "colunas = [\"País\", \"Ouro\", \"Prata\", \"Bronze\", \"Total\"]"
   ]
  },
  {
   "cell_type": "code",
   "execution_count": 8,
   "id": "6486d72a-4e78-4804-b176-409b259419c3",
   "metadata": {},
   "outputs": [],
   "source": [
    "for i in df: #TRANSFORMO AS COLUNAS DOS DATAFRAMES DE ACORDO COM A LISTA colunas.\n",
    "    i.columns = colunas"
   ]
  },
  {
   "cell_type": "code",
   "execution_count": 9,
   "id": "d20d682d-3815-4e8f-b8ff-974b833dbcf3",
   "metadata": {},
   "outputs": [],
   "source": [
    "for i in df: #REMOVO OS 4 PRIMEIROS CARACTERES DE TODAS AS LINHAS DA COLUNAS País, JÁ QUE SÃO REFERENTES A SIGLA DOS PAÍSES.\n",
    "    i[\"País\"] = i[\"País\"].str.strip().str[4:]"
   ]
  },
  {
   "cell_type": "code",
   "execution_count": 10,
   "id": "0c666626-4e9b-4bc0-a724-ad36d5244741",
   "metadata": {},
   "outputs": [
    {
     "data": {
      "text/html": [
       "<div>\n",
       "<style scoped>\n",
       "    .dataframe tbody tr th:only-of-type {\n",
       "        vertical-align: middle;\n",
       "    }\n",
       "\n",
       "    .dataframe tbody tr th {\n",
       "        vertical-align: top;\n",
       "    }\n",
       "\n",
       "    .dataframe thead th {\n",
       "        text-align: right;\n",
       "    }\n",
       "</style>\n",
       "<table border=\"1\" class=\"dataframe\">\n",
       "  <thead>\n",
       "    <tr style=\"text-align: right;\">\n",
       "      <th></th>\n",
       "      <th>País</th>\n",
       "      <th>Ouro</th>\n",
       "      <th>Prata</th>\n",
       "      <th>Bronze</th>\n",
       "      <th>Total</th>\n",
       "    </tr>\n",
       "  </thead>\n",
       "  <tbody>\n",
       "  </tbody>\n",
       "</table>\n",
       "</div>"
      ],
      "text/plain": [
       "Empty DataFrame\n",
       "Columns: [País, Ouro, Prata, Bronze, Total]\n",
       "Index: []"
      ]
     },
     "execution_count": 10,
     "metadata": {},
     "output_type": "execute_result"
    }
   ],
   "source": [
    "df16.loc[df16[\"País\"].str[0] == \" \"]"
   ]
  },
  {
   "cell_type": "code",
   "execution_count": 11,
   "id": "15e4f002-44cf-4028-ad2d-99280a9e3836",
   "metadata": {},
   "outputs": [],
   "source": [
    "for i in df: #NOS DATAFRAMES, QUANDO A QUANTIDADE DE MEDALHAS É ZERO, ESTÁ PREENCHIDO COMO NaN. AQUI EU MUDO ISSO PARA APARECER O VALOR 0.\n",
    "    i.fillna(0, inplace=True)"
   ]
  },
  {
   "cell_type": "code",
   "execution_count": 12,
   "id": "4089e82b-3964-454b-a452-e6387e672880",
   "metadata": {},
   "outputs": [
    {
     "data": {
      "text/html": [
       "<div>\n",
       "<style scoped>\n",
       "    .dataframe tbody tr th:only-of-type {\n",
       "        vertical-align: middle;\n",
       "    }\n",
       "\n",
       "    .dataframe tbody tr th {\n",
       "        vertical-align: top;\n",
       "    }\n",
       "\n",
       "    .dataframe thead th {\n",
       "        text-align: right;\n",
       "    }\n",
       "</style>\n",
       "<table border=\"1\" class=\"dataframe\">\n",
       "  <thead>\n",
       "    <tr style=\"text-align: right;\">\n",
       "      <th></th>\n",
       "      <th>País</th>\n",
       "      <th>Ouro</th>\n",
       "      <th>Prata</th>\n",
       "      <th>Bronze</th>\n",
       "      <th>Total</th>\n",
       "    </tr>\n",
       "  </thead>\n",
       "  <tbody>\n",
       "    <tr>\n",
       "      <th>0</th>\n",
       "      <td>Estados Unidos</td>\n",
       "      <td>39.0</td>\n",
       "      <td>41.0</td>\n",
       "      <td>33.0</td>\n",
       "      <td>113</td>\n",
       "    </tr>\n",
       "    <tr>\n",
       "      <th>1</th>\n",
       "      <td>China</td>\n",
       "      <td>38.0</td>\n",
       "      <td>32.0</td>\n",
       "      <td>18.0</td>\n",
       "      <td>88</td>\n",
       "    </tr>\n",
       "    <tr>\n",
       "      <th>2</th>\n",
       "      <td>Japão</td>\n",
       "      <td>27.0</td>\n",
       "      <td>14.0</td>\n",
       "      <td>17.0</td>\n",
       "      <td>58</td>\n",
       "    </tr>\n",
       "    <tr>\n",
       "      <th>3</th>\n",
       "      <td>Grã-Bretanha</td>\n",
       "      <td>22.0</td>\n",
       "      <td>21.0</td>\n",
       "      <td>22.0</td>\n",
       "      <td>65</td>\n",
       "    </tr>\n",
       "    <tr>\n",
       "      <th>4</th>\n",
       "      <td>ROC</td>\n",
       "      <td>20.0</td>\n",
       "      <td>28.0</td>\n",
       "      <td>23.0</td>\n",
       "      <td>71</td>\n",
       "    </tr>\n",
       "  </tbody>\n",
       "</table>\n",
       "</div>"
      ],
      "text/plain": [
       "             País  Ouro  Prata  Bronze Total\n",
       "0  Estados Unidos  39.0   41.0    33.0   113\n",
       "1           China  38.0   32.0    18.0    88\n",
       "2           Japão  27.0   14.0    17.0    58\n",
       "3    Grã-Bretanha  22.0   21.0    22.0    65\n",
       "4             ROC  20.0   28.0    23.0    71"
      ]
     },
     "execution_count": 12,
     "metadata": {},
     "output_type": "execute_result"
    }
   ],
   "source": [
    "df20.head()"
   ]
  },
  {
   "cell_type": "code",
   "execution_count": 13,
   "id": "1f85fc26-bc74-4142-8f83-4329574c4329",
   "metadata": {},
   "outputs": [],
   "source": [
    "df20.loc[df20[\"País\"] == \"L\", \"Total\"] = 1080 #USADO APENAS PARA UM DATAFRAME ESPECÍFICO QUE VEIO COM UM VALOR DEFEITUOSO, PORÉM TENHO A INFORMAÇÃO CORRETA."
   ]
  },
  {
   "cell_type": "code",
   "execution_count": 14,
   "id": "a9678d4f-943a-4936-aa91-b092c2469291",
   "metadata": {},
   "outputs": [
    {
     "data": {
      "text/html": [
       "<div>\n",
       "<style scoped>\n",
       "    .dataframe tbody tr th:only-of-type {\n",
       "        vertical-align: middle;\n",
       "    }\n",
       "\n",
       "    .dataframe tbody tr th {\n",
       "        vertical-align: top;\n",
       "    }\n",
       "\n",
       "    .dataframe thead th {\n",
       "        text-align: right;\n",
       "    }\n",
       "</style>\n",
       "<table border=\"1\" class=\"dataframe\">\n",
       "  <thead>\n",
       "    <tr style=\"text-align: right;\">\n",
       "      <th></th>\n",
       "      <th>País</th>\n",
       "      <th>Ouro</th>\n",
       "      <th>Prata</th>\n",
       "      <th>Bronze</th>\n",
       "      <th>Total</th>\n",
       "    </tr>\n",
       "  </thead>\n",
       "  <tbody>\n",
       "    <tr>\n",
       "      <th>0</th>\n",
       "      <td>Estados Unidos</td>\n",
       "      <td>39.0</td>\n",
       "      <td>41.0</td>\n",
       "      <td>33.0</td>\n",
       "      <td>113</td>\n",
       "    </tr>\n",
       "    <tr>\n",
       "      <th>1</th>\n",
       "      <td>China</td>\n",
       "      <td>38.0</td>\n",
       "      <td>32.0</td>\n",
       "      <td>18.0</td>\n",
       "      <td>88</td>\n",
       "    </tr>\n",
       "    <tr>\n",
       "      <th>2</th>\n",
       "      <td>Japão</td>\n",
       "      <td>27.0</td>\n",
       "      <td>14.0</td>\n",
       "      <td>17.0</td>\n",
       "      <td>58</td>\n",
       "    </tr>\n",
       "    <tr>\n",
       "      <th>3</th>\n",
       "      <td>Grã-Bretanha</td>\n",
       "      <td>22.0</td>\n",
       "      <td>21.0</td>\n",
       "      <td>22.0</td>\n",
       "      <td>65</td>\n",
       "    </tr>\n",
       "    <tr>\n",
       "      <th>4</th>\n",
       "      <td>ROC</td>\n",
       "      <td>20.0</td>\n",
       "      <td>28.0</td>\n",
       "      <td>23.0</td>\n",
       "      <td>71</td>\n",
       "    </tr>\n",
       "  </tbody>\n",
       "</table>\n",
       "</div>"
      ],
      "text/plain": [
       "             País  Ouro  Prata  Bronze Total\n",
       "0  Estados Unidos  39.0   41.0    33.0   113\n",
       "1           China  38.0   32.0    18.0    88\n",
       "2           Japão  27.0   14.0    17.0    58\n",
       "3    Grã-Bretanha  22.0   21.0    22.0    65\n",
       "4             ROC  20.0   28.0    23.0    71"
      ]
     },
     "execution_count": 14,
     "metadata": {},
     "output_type": "execute_result"
    }
   ],
   "source": [
    "df20.head()"
   ]
  },
  {
   "cell_type": "code",
   "execution_count": 15,
   "id": "19625309-f6f2-4f45-96c4-c412c2be6921",
   "metadata": {},
   "outputs": [],
   "source": [
    "for i in df: #MUDO O VALOR DE TODAS AS COLUNAS COM VALORES NUMÉRICOS PARA O FORMATO Int.\n",
    "    i.iloc[:,1:5] = i.iloc[:,1:5].astype(int)"
   ]
  },
  {
   "cell_type": "code",
   "execution_count": 16,
   "id": "a07f3494-ee4d-48d6-b3f0-74bb5cec2673",
   "metadata": {},
   "outputs": [],
   "source": [
    "def total(dataframe): #FUNÇÃO QUE ELIMINA A ÚLTIMA LINHA (Total) DE TODOS OS DATAFRAMES.\n",
    "    x = dataframe\n",
    "    x = x.iloc[:-1,:]\n",
    "    return x"
   ]
  },
  {
   "cell_type": "code",
   "execution_count": 17,
   "id": "349423f0-0a1f-4db7-8fef-12608e73e8b1",
   "metadata": {},
   "outputs": [],
   "source": [
    "#CHAMADA DA FUNÇÃO.\n",
    "df20 = total(df20)\n",
    "df16 = total(df16)\n",
    "df12 = total(df12)\n",
    "df08 = total(df08)\n",
    "df04 = total(df04)\n",
    "df00 = total(df00)"
   ]
  },
  {
   "cell_type": "markdown",
   "id": "425cac56-8985-4802-91f3-898ed3f04a12",
   "metadata": {},
   "source": [
    "4. Nessa etapa, busquei uma tabela com todos os países de cada continente. Dessa forma, ficaria mais fácil atribuir uma coluna ```Continente``` para cada país."
   ]
  },
  {
   "cell_type": "code",
   "execution_count": 18,
   "id": "18a5a3c0-1268-48ba-8008-449b0c3d22f4",
   "metadata": {},
   "outputs": [],
   "source": [
    "africa = pd.read_html(\"file:///C:/Users/Joao%20Victor/Desktop/Joao/Programming/olimpiadas/africa.html\", encoding=\"utf-8\")\n",
    "africa = africa[0]\n",
    "america = pd.read_html(\"file:///C:/Users/Joao%20Victor/Desktop/Joao/Programming/olimpiadas/america.html\", encoding=\"utf-8\")\n",
    "america = america[0]\n",
    "europa = pd.read_html(\"file:///C:/Users/Joao%20Victor/Desktop/Joao/Programming/olimpiadas/europa.html\", encoding=\"utf-8\")\n",
    "europa = europa[0]\n",
    "asia = pd.read_html(\"file:///C:/Users/Joao%20Victor/Desktop/Joao/Programming/olimpiadas/asia.html\", encoding=\"utf-8\")\n",
    "asia = asia[0]\n",
    "oceania = pd.read_html(\"file:///C:/Users/Joao%20Victor/Desktop/Joao/Programming/olimpiadas/oceania.html\", encoding=\"utf-8\")\n",
    "oceania = oceania[0]"
   ]
  },
  {
   "cell_type": "code",
   "execution_count": 19,
   "id": "2f7c91e4-f4bb-4439-ac6b-5b5522cf7b0a",
   "metadata": {},
   "outputs": [],
   "source": [
    "def lista_paises(df): #ALGUMAS LINHAS VIERAM DEFEITUOSAS, ENTÃO EU AS REMOVI COM BASE EM ALGUMAS CONDIÇÕES.\n",
    "    df = df.iloc[:,0]\n",
    "    list = []\n",
    "    for i in df:\n",
    "        if not i.__contains__(\"google\"):\n",
    "            list.append(i)\n",
    "    return list"
   ]
  },
  {
   "cell_type": "code",
   "execution_count": 20,
   "id": "3def280d-7e7b-46c0-ae6c-71ee2e66833a",
   "metadata": {},
   "outputs": [],
   "source": [
    "#CHAMADA DA FUNÇÃO.\n",
    "africa = lista_paises(africa)\n",
    "america = lista_paises(america)\n",
    "europa = lista_paises(europa)\n",
    "asia = lista_paises(asia)\n",
    "oceania = lista_paises(oceania)"
   ]
  },
  {
   "cell_type": "code",
   "execution_count": 21,
   "id": "3250c284-a760-4241-b6c1-7373406dad92",
   "metadata": {},
   "outputs": [
    {
     "name": "stdout",
     "output_type": "stream",
     "text": [
      "54 35 46 47 15\n"
     ]
    }
   ],
   "source": [
    "print(len(africa), len(america), len(europa), len(asia), len(oceania))"
   ]
  },
  {
   "cell_type": "code",
   "execution_count": 22,
   "id": "31da2ebc-d4d0-42ee-86a7-096b47ded7ee",
   "metadata": {},
   "outputs": [],
   "source": [
    "#REMOVI UMA LINHA COM INFORMAÇÃO INCORRETA.\n",
    "del(asia[18])"
   ]
  },
  {
   "cell_type": "code",
   "execution_count": 23,
   "id": "d07e728c-88f9-49f9-a368-7b2509adba10",
   "metadata": {},
   "outputs": [],
   "source": [
    "#ALGUNS PAÍSES VIERAM COM A GRAFIA INCORRETA OU SIMPLESMENTE NOMEADOS DE FORMA DIFERENTE. ENTÃO EU OS ADICIONEI PARA QUE NÃO HAJAM PAÍSES SEM ATRIBUIÇÃO DE CONTINENTES.\n",
    "africa += [\"Quênia\", \"Burundi\", \"Zimbabwe\", \"Maurício\", \"Burquina Fasso\"]\n",
    "america += [\"Porto Rico\", \"Trinidad e Tobago\", \"Bermudas\"]\n",
    "europa += [\"Grã-Bretanha\", \"Polônia\", \"Eslovênia\", \"Romênia\", \"Kosovo\", \"Estônia\", \"Letônia\", \"Sérvia e Montenegro\", \"Iugoslávia\", \"Macedônia do Norte\", \"Atletas Olímpicos da Rússia\", \"San Marino\", \"Geórgia\", \"ROC\"]\n",
    "asia += [\"Uzbequistão\", \"Irã\", \"Armênia\", \"Bahrein\", \"Vietnã\", \"Taipé Chinês\", \"Hong Kong\", \"Kuwait\", \"Sri Lanka\"]"
   ]
  },
  {
   "cell_type": "code",
   "execution_count": 24,
   "id": "20e11c81-1131-480a-ab16-1e132a4b7111",
   "metadata": {},
   "outputs": [],
   "source": [
    "#ESSA FUNÇÃO ATRIBUI A CADA PAÍS, O CONTINENTE A QUE PERTENCE, CRIANDO, PARA ISSO, UMA NOVA COLUNA NO DATAFRAME.\n",
    "def cont(dataframe, africa = africa, america = america, europa = europa, asia = asia, oceania = oceania):\n",
    "    continentes = []\n",
    "    for i in dataframe.iloc[:,0]:\n",
    "        if i in africa:\n",
    "            continentes.append(\"Africa\")\n",
    "        elif i in america:\n",
    "            continentes.append(\"America\")\n",
    "        elif i in europa:\n",
    "            continentes.append(\"Europa\")\n",
    "        elif i in asia:\n",
    "            continentes.append(\"Asia\")\n",
    "        elif i in oceania:\n",
    "            continentes.append(\"Oceania\")\n",
    "        else:\n",
    "            continentes.append(np.nan)\n",
    "    dataframe.loc[:,\"Continente\"] = continentes\n",
    "    return dataframe"
   ]
  },
  {
   "cell_type": "code",
   "execution_count": 25,
   "id": "f6747904-f7d8-4de2-88e1-272dbd016611",
   "metadata": {},
   "outputs": [
    {
     "name": "stderr",
     "output_type": "stream",
     "text": [
      "C:\\Users\\Joao Victor\\anaconda3\\lib\\site-packages\\pandas\\core\\indexing.py:1597: SettingWithCopyWarning: \n",
      "A value is trying to be set on a copy of a slice from a DataFrame.\n",
      "Try using .loc[row_indexer,col_indexer] = value instead\n",
      "\n",
      "See the caveats in the documentation: https://pandas.pydata.org/pandas-docs/stable/user_guide/indexing.html#returning-a-view-versus-a-copy\n",
      "  self.obj[key] = value\n",
      "C:\\Users\\Joao Victor\\anaconda3\\lib\\site-packages\\pandas\\core\\indexing.py:1676: SettingWithCopyWarning: \n",
      "A value is trying to be set on a copy of a slice from a DataFrame.\n",
      "Try using .loc[row_indexer,col_indexer] = value instead\n",
      "\n",
      "See the caveats in the documentation: https://pandas.pydata.org/pandas-docs/stable/user_guide/indexing.html#returning-a-view-versus-a-copy\n",
      "  self._setitem_single_column(ilocs[0], value, pi)\n"
     ]
    }
   ],
   "source": [
    "#CHAMADA DA FUNÇÃO.\n",
    "df20 = cont(df20)\n",
    "df16 = cont(df16)\n",
    "df12 = cont(df12)\n",
    "df08 = cont(df08)\n",
    "df04 = cont(df04)\n",
    "df00 = cont(df00)"
   ]
  },
  {
   "cell_type": "code",
   "execution_count": 26,
   "id": "c38facb9-184e-466a-8c2f-735b6a78ede6",
   "metadata": {},
   "outputs": [
    {
     "data": {
      "text/html": [
       "<div>\n",
       "<style scoped>\n",
       "    .dataframe tbody tr th:only-of-type {\n",
       "        vertical-align: middle;\n",
       "    }\n",
       "\n",
       "    .dataframe tbody tr th {\n",
       "        vertical-align: top;\n",
       "    }\n",
       "\n",
       "    .dataframe thead th {\n",
       "        text-align: right;\n",
       "    }\n",
       "</style>\n",
       "<table border=\"1\" class=\"dataframe\">\n",
       "  <thead>\n",
       "    <tr style=\"text-align: right;\">\n",
       "      <th></th>\n",
       "      <th>País</th>\n",
       "      <th>Ouro</th>\n",
       "      <th>Prata</th>\n",
       "      <th>Bronze</th>\n",
       "      <th>Total</th>\n",
       "      <th>Continente</th>\n",
       "    </tr>\n",
       "  </thead>\n",
       "  <tbody>\n",
       "    <tr>\n",
       "      <th>0</th>\n",
       "      <td>Estados Unidos</td>\n",
       "      <td>36</td>\n",
       "      <td>39</td>\n",
       "      <td>26</td>\n",
       "      <td>101</td>\n",
       "      <td>America</td>\n",
       "    </tr>\n",
       "    <tr>\n",
       "      <th>1</th>\n",
       "      <td>China</td>\n",
       "      <td>32</td>\n",
       "      <td>17</td>\n",
       "      <td>14</td>\n",
       "      <td>63</td>\n",
       "      <td>Asia</td>\n",
       "    </tr>\n",
       "    <tr>\n",
       "      <th>2</th>\n",
       "      <td>Rússia</td>\n",
       "      <td>28</td>\n",
       "      <td>26</td>\n",
       "      <td>36</td>\n",
       "      <td>90</td>\n",
       "      <td>Europa</td>\n",
       "    </tr>\n",
       "    <tr>\n",
       "      <th>3</th>\n",
       "      <td>Austrália</td>\n",
       "      <td>17</td>\n",
       "      <td>16</td>\n",
       "      <td>17</td>\n",
       "      <td>50</td>\n",
       "      <td>Oceania</td>\n",
       "    </tr>\n",
       "    <tr>\n",
       "      <th>4</th>\n",
       "      <td>Japão</td>\n",
       "      <td>16</td>\n",
       "      <td>9</td>\n",
       "      <td>12</td>\n",
       "      <td>37</td>\n",
       "      <td>Asia</td>\n",
       "    </tr>\n",
       "  </tbody>\n",
       "</table>\n",
       "</div>"
      ],
      "text/plain": [
       "             País  Ouro  Prata  Bronze  Total Continente\n",
       "0  Estados Unidos    36     39      26    101    America\n",
       "1           China    32     17      14     63       Asia\n",
       "2          Rússia    28     26      36     90     Europa\n",
       "3       Austrália    17     16      17     50    Oceania\n",
       "4           Japão    16      9      12     37       Asia"
      ]
     },
     "execution_count": 26,
     "metadata": {},
     "output_type": "execute_result"
    }
   ],
   "source": [
    "df04.head()"
   ]
  },
  {
   "cell_type": "code",
   "execution_count": 27,
   "id": "a074586b-596a-4789-8830-4347e3388a54",
   "metadata": {},
   "outputs": [
    {
     "name": "stderr",
     "output_type": "stream",
     "text": [
      "C:\\Users\\Joao Victor\\anaconda3\\lib\\site-packages\\pandas\\core\\frame.py:4308: SettingWithCopyWarning: \n",
      "A value is trying to be set on a copy of a slice from a DataFrame\n",
      "\n",
      "See the caveats in the documentation: https://pandas.pydata.org/pandas-docs/stable/user_guide/indexing.html#returning-a-view-versus-a-copy\n",
      "  return super().drop(\n"
     ]
    }
   ],
   "source": [
    "df16.drop(52,inplace=True) #TIREI A EQUIPE DE REFUGIADOS."
   ]
  },
  {
   "cell_type": "code",
   "execution_count": 28,
   "id": "02a4c714-5a4f-4edf-8bad-ad8b890cc9a3",
   "metadata": {},
   "outputs": [
    {
     "data": {
      "text/html": [
       "<div>\n",
       "<style scoped>\n",
       "    .dataframe tbody tr th:only-of-type {\n",
       "        vertical-align: middle;\n",
       "    }\n",
       "\n",
       "    .dataframe tbody tr th {\n",
       "        vertical-align: top;\n",
       "    }\n",
       "\n",
       "    .dataframe thead th {\n",
       "        text-align: right;\n",
       "    }\n",
       "</style>\n",
       "<table border=\"1\" class=\"dataframe\">\n",
       "  <thead>\n",
       "    <tr style=\"text-align: right;\">\n",
       "      <th></th>\n",
       "      <th>País</th>\n",
       "      <th>Ouro</th>\n",
       "      <th>Prata</th>\n",
       "      <th>Bronze</th>\n",
       "      <th>Total</th>\n",
       "      <th>Continente</th>\n",
       "    </tr>\n",
       "  </thead>\n",
       "  <tbody>\n",
       "    <tr>\n",
       "      <th>0</th>\n",
       "      <td>Estados Unidos</td>\n",
       "      <td>37</td>\n",
       "      <td>24</td>\n",
       "      <td>32</td>\n",
       "      <td>93</td>\n",
       "      <td>America</td>\n",
       "    </tr>\n",
       "    <tr>\n",
       "      <th>8</th>\n",
       "      <td>Cuba</td>\n",
       "      <td>11</td>\n",
       "      <td>11</td>\n",
       "      <td>7</td>\n",
       "      <td>29</td>\n",
       "      <td>America</td>\n",
       "    </tr>\n",
       "    <tr>\n",
       "      <th>23</th>\n",
       "      <td>Canadá</td>\n",
       "      <td>3</td>\n",
       "      <td>3</td>\n",
       "      <td>8</td>\n",
       "      <td>14</td>\n",
       "      <td>America</td>\n",
       "    </tr>\n",
       "    <tr>\n",
       "      <th>34</th>\n",
       "      <td>Bahamas</td>\n",
       "      <td>2</td>\n",
       "      <td>0</td>\n",
       "      <td>1</td>\n",
       "      <td>3</td>\n",
       "      <td>America</td>\n",
       "    </tr>\n",
       "    <tr>\n",
       "      <th>39</th>\n",
       "      <td>México</td>\n",
       "      <td>1</td>\n",
       "      <td>2</td>\n",
       "      <td>3</td>\n",
       "      <td>6</td>\n",
       "      <td>America</td>\n",
       "    </tr>\n",
       "  </tbody>\n",
       "</table>\n",
       "</div>"
      ],
      "text/plain": [
       "              País  Ouro  Prata  Bronze  Total Continente\n",
       "0   Estados Unidos    37     24      32     93    America\n",
       "8             Cuba    11     11       7     29    America\n",
       "23          Canadá     3      3       8     14    America\n",
       "34         Bahamas     2      0       1      3    America\n",
       "39          México     1      2       3      6    America"
      ]
     },
     "execution_count": 28,
     "metadata": {},
     "output_type": "execute_result"
    }
   ],
   "source": [
    "df00.loc[df00[\"Continente\"] == \"America\"].sort_values(\"Ouro\", ascending=False).head()"
   ]
  },
  {
   "cell_type": "code",
   "execution_count": 29,
   "id": "3c704008-9f39-45de-93a0-993be4237a69",
   "metadata": {},
   "outputs": [
    {
     "data": {
      "text/html": [
       "<div>\n",
       "<style scoped>\n",
       "    .dataframe tbody tr th:only-of-type {\n",
       "        vertical-align: middle;\n",
       "    }\n",
       "\n",
       "    .dataframe tbody tr th {\n",
       "        vertical-align: top;\n",
       "    }\n",
       "\n",
       "    .dataframe thead th {\n",
       "        text-align: right;\n",
       "    }\n",
       "</style>\n",
       "<table border=\"1\" class=\"dataframe\">\n",
       "  <thead>\n",
       "    <tr style=\"text-align: right;\">\n",
       "      <th></th>\n",
       "      <th>País</th>\n",
       "      <th>Ouro</th>\n",
       "      <th>Prata</th>\n",
       "      <th>Bronze</th>\n",
       "      <th>Total</th>\n",
       "      <th>Continente</th>\n",
       "    </tr>\n",
       "  </thead>\n",
       "  <tbody>\n",
       "    <tr>\n",
       "      <th>0</th>\n",
       "      <td>Estados Unidos</td>\n",
       "      <td>39</td>\n",
       "      <td>41</td>\n",
       "      <td>33</td>\n",
       "      <td>113</td>\n",
       "      <td>America</td>\n",
       "    </tr>\n",
       "    <tr>\n",
       "      <th>1</th>\n",
       "      <td>China</td>\n",
       "      <td>38</td>\n",
       "      <td>32</td>\n",
       "      <td>18</td>\n",
       "      <td>88</td>\n",
       "      <td>Asia</td>\n",
       "    </tr>\n",
       "    <tr>\n",
       "      <th>2</th>\n",
       "      <td>Japão</td>\n",
       "      <td>27</td>\n",
       "      <td>14</td>\n",
       "      <td>17</td>\n",
       "      <td>58</td>\n",
       "      <td>Asia</td>\n",
       "    </tr>\n",
       "    <tr>\n",
       "      <th>3</th>\n",
       "      <td>Grã-Bretanha</td>\n",
       "      <td>22</td>\n",
       "      <td>21</td>\n",
       "      <td>22</td>\n",
       "      <td>65</td>\n",
       "      <td>Europa</td>\n",
       "    </tr>\n",
       "    <tr>\n",
       "      <th>4</th>\n",
       "      <td>ROC</td>\n",
       "      <td>20</td>\n",
       "      <td>28</td>\n",
       "      <td>23</td>\n",
       "      <td>71</td>\n",
       "      <td>Europa</td>\n",
       "    </tr>\n",
       "  </tbody>\n",
       "</table>\n",
       "</div>"
      ],
      "text/plain": [
       "             País  Ouro  Prata  Bronze  Total Continente\n",
       "0  Estados Unidos    39     41      33    113    America\n",
       "1           China    38     32      18     88       Asia\n",
       "2           Japão    27     14      17     58       Asia\n",
       "3    Grã-Bretanha    22     21      22     65     Europa\n",
       "4             ROC    20     28      23     71     Europa"
      ]
     },
     "execution_count": 29,
     "metadata": {},
     "output_type": "execute_result"
    }
   ],
   "source": [
    "df20.head()"
   ]
  },
  {
   "cell_type": "markdown",
   "id": "f698298b-290f-4220-b92d-6064945d46f5",
   "metadata": {},
   "source": [
    "5. Vejo se algum país ainda não possui um continente atribuído ao seu nome no dataframe."
   ]
  },
  {
   "cell_type": "code",
   "execution_count": 30,
   "id": "3838e567-5d20-4139-8d7d-30a34afde76b",
   "metadata": {},
   "outputs": [
    {
     "data": {
      "text/html": [
       "<div>\n",
       "<style scoped>\n",
       "    .dataframe tbody tr th:only-of-type {\n",
       "        vertical-align: middle;\n",
       "    }\n",
       "\n",
       "    .dataframe tbody tr th {\n",
       "        vertical-align: top;\n",
       "    }\n",
       "\n",
       "    .dataframe thead th {\n",
       "        text-align: right;\n",
       "    }\n",
       "</style>\n",
       "<table border=\"1\" class=\"dataframe\">\n",
       "  <thead>\n",
       "    <tr style=\"text-align: right;\">\n",
       "      <th></th>\n",
       "      <th>País</th>\n",
       "      <th>Ouro</th>\n",
       "      <th>Prata</th>\n",
       "      <th>Bronze</th>\n",
       "      <th>Total</th>\n",
       "      <th>Continente</th>\n",
       "    </tr>\n",
       "  </thead>\n",
       "  <tbody>\n",
       "  </tbody>\n",
       "</table>\n",
       "</div>"
      ],
      "text/plain": [
       "Empty DataFrame\n",
       "Columns: [País, Ouro, Prata, Bronze, Total, Continente]\n",
       "Index: []"
      ]
     },
     "execution_count": 30,
     "metadata": {},
     "output_type": "execute_result"
    }
   ],
   "source": [
    "df12.loc[df12[\"Continente\"].isna()]"
   ]
  },
  {
   "cell_type": "code",
   "execution_count": 31,
   "id": "670ba536-ea45-42f6-a88d-917590bb7519",
   "metadata": {},
   "outputs": [
    {
     "data": {
      "text/html": [
       "<div>\n",
       "<style scoped>\n",
       "    .dataframe tbody tr th:only-of-type {\n",
       "        vertical-align: middle;\n",
       "    }\n",
       "\n",
       "    .dataframe tbody tr th {\n",
       "        vertical-align: top;\n",
       "    }\n",
       "\n",
       "    .dataframe thead th {\n",
       "        text-align: right;\n",
       "    }\n",
       "</style>\n",
       "<table border=\"1\" class=\"dataframe\">\n",
       "  <thead>\n",
       "    <tr style=\"text-align: right;\">\n",
       "      <th></th>\n",
       "      <th>País</th>\n",
       "      <th>Ouro</th>\n",
       "      <th>Prata</th>\n",
       "      <th>Bronze</th>\n",
       "      <th>Total</th>\n",
       "      <th>Continente</th>\n",
       "    </tr>\n",
       "  </thead>\n",
       "  <tbody>\n",
       "  </tbody>\n",
       "</table>\n",
       "</div>"
      ],
      "text/plain": [
       "Empty DataFrame\n",
       "Columns: [País, Ouro, Prata, Bronze, Total, Continente]\n",
       "Index: []"
      ]
     },
     "execution_count": 31,
     "metadata": {},
     "output_type": "execute_result"
    }
   ],
   "source": [
    "df08.loc[df08[\"Continente\"].isna()]"
   ]
  },
  {
   "cell_type": "code",
   "execution_count": 32,
   "id": "b3a51dbd-b7e8-4860-8f8f-7633d0e1bcf2",
   "metadata": {},
   "outputs": [
    {
     "data": {
      "text/html": [
       "<div>\n",
       "<style scoped>\n",
       "    .dataframe tbody tr th:only-of-type {\n",
       "        vertical-align: middle;\n",
       "    }\n",
       "\n",
       "    .dataframe tbody tr th {\n",
       "        vertical-align: top;\n",
       "    }\n",
       "\n",
       "    .dataframe thead th {\n",
       "        text-align: right;\n",
       "    }\n",
       "</style>\n",
       "<table border=\"1\" class=\"dataframe\">\n",
       "  <thead>\n",
       "    <tr style=\"text-align: right;\">\n",
       "      <th></th>\n",
       "      <th>País</th>\n",
       "      <th>Ouro</th>\n",
       "      <th>Prata</th>\n",
       "      <th>Bronze</th>\n",
       "      <th>Total</th>\n",
       "      <th>Continente</th>\n",
       "    </tr>\n",
       "  </thead>\n",
       "  <tbody>\n",
       "  </tbody>\n",
       "</table>\n",
       "</div>"
      ],
      "text/plain": [
       "Empty DataFrame\n",
       "Columns: [País, Ouro, Prata, Bronze, Total, Continente]\n",
       "Index: []"
      ]
     },
     "execution_count": 32,
     "metadata": {},
     "output_type": "execute_result"
    }
   ],
   "source": [
    "df04.loc[df04[\"Continente\"].isna()]"
   ]
  },
  {
   "cell_type": "code",
   "execution_count": 33,
   "id": "d9d7377b-f832-4eab-96d5-8dcd04a741e8",
   "metadata": {},
   "outputs": [
    {
     "data": {
      "text/html": [
       "<div>\n",
       "<style scoped>\n",
       "    .dataframe tbody tr th:only-of-type {\n",
       "        vertical-align: middle;\n",
       "    }\n",
       "\n",
       "    .dataframe tbody tr th {\n",
       "        vertical-align: top;\n",
       "    }\n",
       "\n",
       "    .dataframe thead th {\n",
       "        text-align: right;\n",
       "    }\n",
       "</style>\n",
       "<table border=\"1\" class=\"dataframe\">\n",
       "  <thead>\n",
       "    <tr style=\"text-align: right;\">\n",
       "      <th></th>\n",
       "      <th>País</th>\n",
       "      <th>Ouro</th>\n",
       "      <th>Prata</th>\n",
       "      <th>Bronze</th>\n",
       "      <th>Total</th>\n",
       "      <th>Continente</th>\n",
       "    </tr>\n",
       "  </thead>\n",
       "  <tbody>\n",
       "  </tbody>\n",
       "</table>\n",
       "</div>"
      ],
      "text/plain": [
       "Empty DataFrame\n",
       "Columns: [País, Ouro, Prata, Bronze, Total, Continente]\n",
       "Index: []"
      ]
     },
     "execution_count": 33,
     "metadata": {},
     "output_type": "execute_result"
    }
   ],
   "source": [
    "df00.loc[df00[\"Continente\"].isna()]"
   ]
  },
  {
   "cell_type": "markdown",
   "id": "0252218f-3281-4285-99eb-ac53e9093781",
   "metadata": {},
   "source": [
    "6. Agora, irei gerar um dataframe com informações dos continentes para cada ano dos jogos olímpicos."
   ]
  },
  {
   "cell_type": "code",
   "execution_count": 34,
   "id": "33205b3f-181f-48bc-85dd-98bff1130d32",
   "metadata": {},
   "outputs": [],
   "source": [
    "def continentes(dataframe, ano): #FUNÇÃO QUE CRIA NOVOS DATAFRAMES COM INFORMAÇÕES REFERENTES AOS CONTINENTES.\n",
    "    new_df = dataframe.groupby(\"Continente\").sum().reset_index()\n",
    "    new_df[\"Nº de Países\"] = dataframe.groupby(\"Continente\").size().values\n",
    "    new_df[\"Ano\"] = int(ano)\n",
    "    new_df = new_df.loc[:,[\"Continente\", \"Nº de Países\", \"Ouro\", \"Prata\", \"Bronze\", \"Total\", \"Ano\"]]\n",
    "    return new_df"
   ]
  },
  {
   "cell_type": "code",
   "execution_count": 35,
   "id": "cf22b6d5-74de-44c2-ba4c-ce211345c9c8",
   "metadata": {},
   "outputs": [],
   "source": [
    "#CHAMADA DA FUNÇÃO.\n",
    "cont_2020 = continentes(df20, 2020)\n",
    "cont_2016 = continentes(df16, 2016)\n",
    "cont_2012 = continentes(df12, 2012)\n",
    "cont_2008 = continentes(df08, 2008)\n",
    "cont_2004 = continentes(df04, 2004)\n",
    "cont_2000 = continentes(df00, 2000)"
   ]
  },
  {
   "cell_type": "code",
   "execution_count": 36,
   "id": "21df4b53-2a87-4204-a7bb-7286fd2ac6e3",
   "metadata": {},
   "outputs": [
    {
     "data": {
      "text/html": [
       "<div>\n",
       "<style scoped>\n",
       "    .dataframe tbody tr th:only-of-type {\n",
       "        vertical-align: middle;\n",
       "    }\n",
       "\n",
       "    .dataframe tbody tr th {\n",
       "        vertical-align: top;\n",
       "    }\n",
       "\n",
       "    .dataframe thead th {\n",
       "        text-align: right;\n",
       "    }\n",
       "</style>\n",
       "<table border=\"1\" class=\"dataframe\">\n",
       "  <thead>\n",
       "    <tr style=\"text-align: right;\">\n",
       "      <th></th>\n",
       "      <th>Continente</th>\n",
       "      <th>Nº de Países</th>\n",
       "      <th>Ouro</th>\n",
       "      <th>Prata</th>\n",
       "      <th>Bronze</th>\n",
       "      <th>Total</th>\n",
       "      <th>Ano</th>\n",
       "    </tr>\n",
       "  </thead>\n",
       "  <tbody>\n",
       "    <tr>\n",
       "      <th>0</th>\n",
       "      <td>Africa</td>\n",
       "      <td>8</td>\n",
       "      <td>10</td>\n",
       "      <td>10</td>\n",
       "      <td>15</td>\n",
       "      <td>35</td>\n",
       "      <td>2000</td>\n",
       "    </tr>\n",
       "    <tr>\n",
       "      <th>1</th>\n",
       "      <td>America</td>\n",
       "      <td>14</td>\n",
       "      <td>55</td>\n",
       "      <td>56</td>\n",
       "      <td>67</td>\n",
       "      <td>178</td>\n",
       "      <td>2000</td>\n",
       "    </tr>\n",
       "    <tr>\n",
       "      <th>2</th>\n",
       "      <td>Asia</td>\n",
       "      <td>21</td>\n",
       "      <td>55</td>\n",
       "      <td>47</td>\n",
       "      <td>53</td>\n",
       "      <td>155</td>\n",
       "      <td>2000</td>\n",
       "    </tr>\n",
       "    <tr>\n",
       "      <th>3</th>\n",
       "      <td>Europa</td>\n",
       "      <td>35</td>\n",
       "      <td>163</td>\n",
       "      <td>162</td>\n",
       "      <td>172</td>\n",
       "      <td>497</td>\n",
       "      <td>2000</td>\n",
       "    </tr>\n",
       "    <tr>\n",
       "      <th>4</th>\n",
       "      <td>Oceania</td>\n",
       "      <td>2</td>\n",
       "      <td>17</td>\n",
       "      <td>25</td>\n",
       "      <td>20</td>\n",
       "      <td>62</td>\n",
       "      <td>2000</td>\n",
       "    </tr>\n",
       "  </tbody>\n",
       "</table>\n",
       "</div>"
      ],
      "text/plain": [
       "  Continente  Nº de Países  Ouro  Prata  Bronze  Total   Ano\n",
       "0     Africa             8    10     10      15     35  2000\n",
       "1    America            14    55     56      67    178  2000\n",
       "2       Asia            21    55     47      53    155  2000\n",
       "3     Europa            35   163    162     172    497  2000\n",
       "4    Oceania             2    17     25      20     62  2000"
      ]
     },
     "execution_count": 36,
     "metadata": {},
     "output_type": "execute_result"
    }
   ],
   "source": [
    "cont_2000"
   ]
  },
  {
   "cell_type": "markdown",
   "id": "20964df6-8ca0-4af2-a31f-2610a70fe3ce",
   "metadata": {},
   "source": [
    "7. Transformo os 5 dataframes em um só, para facilitar na análise dos dados."
   ]
  },
  {
   "cell_type": "code",
   "execution_count": 37,
   "id": "7dceda7c-582b-4ca7-b2ce-4c09db67d959",
   "metadata": {},
   "outputs": [],
   "source": [
    "olimpiadas = [cont_2020, cont_2016, cont_2012, cont_2008, cont_2004, cont_2000]\n",
    "olimpiadas = pd.concat(olimpiadas, ignore_index=True)"
   ]
  },
  {
   "cell_type": "code",
   "execution_count": 38,
   "id": "aafea2a0-b4a2-400d-88ed-7a8f17859ea0",
   "metadata": {},
   "outputs": [
    {
     "data": {
      "text/html": [
       "<div>\n",
       "<style scoped>\n",
       "    .dataframe tbody tr th:only-of-type {\n",
       "        vertical-align: middle;\n",
       "    }\n",
       "\n",
       "    .dataframe tbody tr th {\n",
       "        vertical-align: top;\n",
       "    }\n",
       "\n",
       "    .dataframe thead th {\n",
       "        text-align: right;\n",
       "    }\n",
       "</style>\n",
       "<table border=\"1\" class=\"dataframe\">\n",
       "  <thead>\n",
       "    <tr style=\"text-align: right;\">\n",
       "      <th></th>\n",
       "      <th>Continente</th>\n",
       "      <th>Nº de Países</th>\n",
       "      <th>Ouro</th>\n",
       "      <th>Prata</th>\n",
       "      <th>Bronze</th>\n",
       "      <th>Total</th>\n",
       "      <th>Ano</th>\n",
       "    </tr>\n",
       "  </thead>\n",
       "  <tbody>\n",
       "    <tr>\n",
       "      <th>0</th>\n",
       "      <td>Africa</td>\n",
       "      <td>13</td>\n",
       "      <td>11</td>\n",
       "      <td>12</td>\n",
       "      <td>14</td>\n",
       "      <td>37</td>\n",
       "      <td>2020</td>\n",
       "    </tr>\n",
       "    <tr>\n",
       "      <th>5</th>\n",
       "      <td>Africa</td>\n",
       "      <td>11</td>\n",
       "      <td>10</td>\n",
       "      <td>18</td>\n",
       "      <td>17</td>\n",
       "      <td>45</td>\n",
       "      <td>2016</td>\n",
       "    </tr>\n",
       "    <tr>\n",
       "      <th>10</th>\n",
       "      <td>Africa</td>\n",
       "      <td>11</td>\n",
       "      <td>13</td>\n",
       "      <td>12</td>\n",
       "      <td>15</td>\n",
       "      <td>40</td>\n",
       "      <td>2012</td>\n",
       "    </tr>\n",
       "    <tr>\n",
       "      <th>15</th>\n",
       "      <td>Africa</td>\n",
       "      <td>13</td>\n",
       "      <td>13</td>\n",
       "      <td>16</td>\n",
       "      <td>15</td>\n",
       "      <td>44</td>\n",
       "      <td>2008</td>\n",
       "    </tr>\n",
       "    <tr>\n",
       "      <th>20</th>\n",
       "      <td>Africa</td>\n",
       "      <td>9</td>\n",
       "      <td>9</td>\n",
       "      <td>13</td>\n",
       "      <td>13</td>\n",
       "      <td>35</td>\n",
       "      <td>2004</td>\n",
       "    </tr>\n",
       "    <tr>\n",
       "      <th>25</th>\n",
       "      <td>Africa</td>\n",
       "      <td>8</td>\n",
       "      <td>10</td>\n",
       "      <td>10</td>\n",
       "      <td>15</td>\n",
       "      <td>35</td>\n",
       "      <td>2000</td>\n",
       "    </tr>\n",
       "  </tbody>\n",
       "</table>\n",
       "</div>"
      ],
      "text/plain": [
       "   Continente  Nº de Países  Ouro  Prata  Bronze  Total   Ano\n",
       "0      Africa            13    11     12      14     37  2020\n",
       "5      Africa            11    10     18      17     45  2016\n",
       "10     Africa            11    13     12      15     40  2012\n",
       "15     Africa            13    13     16      15     44  2008\n",
       "20     Africa             9     9     13      13     35  2004\n",
       "25     Africa             8    10     10      15     35  2000"
      ]
     },
     "execution_count": 38,
     "metadata": {},
     "output_type": "execute_result"
    }
   ],
   "source": [
    "olimpiadas.loc[olimpiadas[\"Continente\"] == \"Africa\"]"
   ]
  },
  {
   "cell_type": "code",
   "execution_count": 39,
   "id": "d929007c-3407-4247-8ebb-623174ed54b3",
   "metadata": {},
   "outputs": [],
   "source": [
    "olimpiadas.to_csv(\"olimpiadas_cont.csv\", index=False)"
   ]
  },
  {
   "cell_type": "code",
   "execution_count": 40,
   "id": "ed249dde-8e62-4914-a769-934b03910f1e",
   "metadata": {},
   "outputs": [
    {
     "name": "stderr",
     "output_type": "stream",
     "text": [
      "<ipython-input-40-b195d6d2e99a>:2: SettingWithCopyWarning: \n",
      "A value is trying to be set on a copy of a slice from a DataFrame.\n",
      "Try using .loc[row_indexer,col_indexer] = value instead\n",
      "\n",
      "See the caveats in the documentation: https://pandas.pydata.org/pandas-docs/stable/user_guide/indexing.html#returning-a-view-versus-a-copy\n",
      "  df20[\"Ano\"] = 2020\n",
      "<ipython-input-40-b195d6d2e99a>:3: SettingWithCopyWarning: \n",
      "A value is trying to be set on a copy of a slice from a DataFrame.\n",
      "Try using .loc[row_indexer,col_indexer] = value instead\n",
      "\n",
      "See the caveats in the documentation: https://pandas.pydata.org/pandas-docs/stable/user_guide/indexing.html#returning-a-view-versus-a-copy\n",
      "  df16[\"Ano\"] = 2016\n",
      "<ipython-input-40-b195d6d2e99a>:4: SettingWithCopyWarning: \n",
      "A value is trying to be set on a copy of a slice from a DataFrame.\n",
      "Try using .loc[row_indexer,col_indexer] = value instead\n",
      "\n",
      "See the caveats in the documentation: https://pandas.pydata.org/pandas-docs/stable/user_guide/indexing.html#returning-a-view-versus-a-copy\n",
      "  df12[\"Ano\"] = 2012\n",
      "<ipython-input-40-b195d6d2e99a>:5: SettingWithCopyWarning: \n",
      "A value is trying to be set on a copy of a slice from a DataFrame.\n",
      "Try using .loc[row_indexer,col_indexer] = value instead\n",
      "\n",
      "See the caveats in the documentation: https://pandas.pydata.org/pandas-docs/stable/user_guide/indexing.html#returning-a-view-versus-a-copy\n",
      "  df08[\"Ano\"] = 2008\n",
      "<ipython-input-40-b195d6d2e99a>:6: SettingWithCopyWarning: \n",
      "A value is trying to be set on a copy of a slice from a DataFrame.\n",
      "Try using .loc[row_indexer,col_indexer] = value instead\n",
      "\n",
      "See the caveats in the documentation: https://pandas.pydata.org/pandas-docs/stable/user_guide/indexing.html#returning-a-view-versus-a-copy\n",
      "  df04[\"Ano\"] = 2004\n",
      "<ipython-input-40-b195d6d2e99a>:7: SettingWithCopyWarning: \n",
      "A value is trying to be set on a copy of a slice from a DataFrame.\n",
      "Try using .loc[row_indexer,col_indexer] = value instead\n",
      "\n",
      "See the caveats in the documentation: https://pandas.pydata.org/pandas-docs/stable/user_guide/indexing.html#returning-a-view-versus-a-copy\n",
      "  df00[\"Ano\"] = 2000\n"
     ]
    }
   ],
   "source": [
    "#CRIO UMA NOVA COLUNA EM CADA DATAFRAME COM A INFORMAÇÃO DO ANO DOS JOGOS OLÍMPICOS.\n",
    "df20[\"Ano\"] = 2020\n",
    "df16[\"Ano\"] = 2016\n",
    "df12[\"Ano\"] = 2012\n",
    "df08[\"Ano\"] = 2008\n",
    "df04[\"Ano\"] = 2004\n",
    "df00[\"Ano\"] = 2000"
   ]
  },
  {
   "cell_type": "code",
   "execution_count": 41,
   "id": "8eacac96-5311-4173-afdb-3d443a281c77",
   "metadata": {},
   "outputs": [],
   "source": [
    "por_paises = [df20, df16, df12, df08, df04, df00] #LISTA COM TODOS OS DATAFRAMES."
   ]
  },
  {
   "cell_type": "code",
   "execution_count": 42,
   "id": "6287a163-d459-4d63-80fb-0e560fa5d7b5",
   "metadata": {},
   "outputs": [],
   "source": [
    "#GERO UM DATAFRAME SÓ COM TODAS AS INFORMAÇÕES DE CADA PAÍS.\n",
    "olim_paises = pd.concat(por_paises) \n",
    "olim_paises.reset_index()\n",
    "olim_paises.to_csv(\"paises.csv\", index=False)"
   ]
  },
  {
   "cell_type": "code",
   "execution_count": 43,
   "id": "702b9532-4546-4f06-aa8a-54726ee95ed7",
   "metadata": {},
   "outputs": [
    {
     "data": {
      "text/html": [
       "<div>\n",
       "<style scoped>\n",
       "    .dataframe tbody tr th:only-of-type {\n",
       "        vertical-align: middle;\n",
       "    }\n",
       "\n",
       "    .dataframe tbody tr th {\n",
       "        vertical-align: top;\n",
       "    }\n",
       "\n",
       "    .dataframe thead th {\n",
       "        text-align: right;\n",
       "    }\n",
       "</style>\n",
       "<table border=\"1\" class=\"dataframe\">\n",
       "  <thead>\n",
       "    <tr style=\"text-align: right;\">\n",
       "      <th></th>\n",
       "      <th>País</th>\n",
       "      <th>Ouro</th>\n",
       "      <th>Prata</th>\n",
       "      <th>Bronze</th>\n",
       "      <th>Total</th>\n",
       "      <th>Continente</th>\n",
       "      <th>Ano</th>\n",
       "    </tr>\n",
       "  </thead>\n",
       "  <tbody>\n",
       "    <tr>\n",
       "      <th>0</th>\n",
       "      <td>Estados Unidos</td>\n",
       "      <td>39</td>\n",
       "      <td>41</td>\n",
       "      <td>33</td>\n",
       "      <td>113</td>\n",
       "      <td>America</td>\n",
       "      <td>2020</td>\n",
       "    </tr>\n",
       "    <tr>\n",
       "      <th>0</th>\n",
       "      <td>Estados Unidos</td>\n",
       "      <td>46</td>\n",
       "      <td>37</td>\n",
       "      <td>38</td>\n",
       "      <td>121</td>\n",
       "      <td>America</td>\n",
       "      <td>2016</td>\n",
       "    </tr>\n",
       "    <tr>\n",
       "      <th>0</th>\n",
       "      <td>Estados Unidos</td>\n",
       "      <td>46</td>\n",
       "      <td>28</td>\n",
       "      <td>30</td>\n",
       "      <td>104</td>\n",
       "      <td>America</td>\n",
       "      <td>2012</td>\n",
       "    </tr>\n",
       "    <tr>\n",
       "      <th>1</th>\n",
       "      <td>Estados Unidos</td>\n",
       "      <td>36</td>\n",
       "      <td>39</td>\n",
       "      <td>37</td>\n",
       "      <td>112</td>\n",
       "      <td>America</td>\n",
       "      <td>2008</td>\n",
       "    </tr>\n",
       "    <tr>\n",
       "      <th>0</th>\n",
       "      <td>Estados Unidos</td>\n",
       "      <td>36</td>\n",
       "      <td>39</td>\n",
       "      <td>26</td>\n",
       "      <td>101</td>\n",
       "      <td>America</td>\n",
       "      <td>2004</td>\n",
       "    </tr>\n",
       "    <tr>\n",
       "      <th>0</th>\n",
       "      <td>Estados Unidos</td>\n",
       "      <td>37</td>\n",
       "      <td>24</td>\n",
       "      <td>32</td>\n",
       "      <td>93</td>\n",
       "      <td>America</td>\n",
       "      <td>2000</td>\n",
       "    </tr>\n",
       "  </tbody>\n",
       "</table>\n",
       "</div>"
      ],
      "text/plain": [
       "             País  Ouro  Prata  Bronze  Total Continente   Ano\n",
       "0  Estados Unidos    39     41      33    113    America  2020\n",
       "0  Estados Unidos    46     37      38    121    America  2016\n",
       "0  Estados Unidos    46     28      30    104    America  2012\n",
       "1  Estados Unidos    36     39      37    112    America  2008\n",
       "0  Estados Unidos    36     39      26    101    America  2004\n",
       "0  Estados Unidos    37     24      32     93    America  2000"
      ]
     },
     "execution_count": 43,
     "metadata": {},
     "output_type": "execute_result"
    }
   ],
   "source": [
    "olim_paises.loc[olim_paises[\"País\"] == \"Estados Unidos\"] #EXEMPLO DE VISUALIZAÇÃO."
   ]
  },
  {
   "cell_type": "code",
   "execution_count": 44,
   "id": "c42d68bd-0e41-4f62-9884-cd5946ca3353",
   "metadata": {},
   "outputs": [
    {
     "data": {
      "text/html": [
       "<div>\n",
       "<style scoped>\n",
       "    .dataframe tbody tr th:only-of-type {\n",
       "        vertical-align: middle;\n",
       "    }\n",
       "\n",
       "    .dataframe tbody tr th {\n",
       "        vertical-align: top;\n",
       "    }\n",
       "\n",
       "    .dataframe thead th {\n",
       "        text-align: right;\n",
       "    }\n",
       "</style>\n",
       "<table border=\"1\" class=\"dataframe\">\n",
       "  <thead>\n",
       "    <tr style=\"text-align: right;\">\n",
       "      <th></th>\n",
       "      <th>País</th>\n",
       "      <th>Ouro</th>\n",
       "      <th>Prata</th>\n",
       "      <th>Bronze</th>\n",
       "      <th>Total</th>\n",
       "      <th>Continente</th>\n",
       "      <th>Ano</th>\n",
       "    </tr>\n",
       "  </thead>\n",
       "  <tbody>\n",
       "    <tr>\n",
       "      <th>0</th>\n",
       "      <td>Estados Unidos</td>\n",
       "      <td>39</td>\n",
       "      <td>41</td>\n",
       "      <td>33</td>\n",
       "      <td>113</td>\n",
       "      <td>America</td>\n",
       "      <td>2020</td>\n",
       "    </tr>\n",
       "    <tr>\n",
       "      <th>1</th>\n",
       "      <td>China</td>\n",
       "      <td>38</td>\n",
       "      <td>32</td>\n",
       "      <td>18</td>\n",
       "      <td>88</td>\n",
       "      <td>Asia</td>\n",
       "      <td>2020</td>\n",
       "    </tr>\n",
       "    <tr>\n",
       "      <th>2</th>\n",
       "      <td>Japão</td>\n",
       "      <td>27</td>\n",
       "      <td>14</td>\n",
       "      <td>17</td>\n",
       "      <td>58</td>\n",
       "      <td>Asia</td>\n",
       "      <td>2020</td>\n",
       "    </tr>\n",
       "    <tr>\n",
       "      <th>3</th>\n",
       "      <td>Grã-Bretanha</td>\n",
       "      <td>22</td>\n",
       "      <td>21</td>\n",
       "      <td>22</td>\n",
       "      <td>65</td>\n",
       "      <td>Europa</td>\n",
       "      <td>2020</td>\n",
       "    </tr>\n",
       "    <tr>\n",
       "      <th>4</th>\n",
       "      <td>ROC</td>\n",
       "      <td>20</td>\n",
       "      <td>28</td>\n",
       "      <td>23</td>\n",
       "      <td>71</td>\n",
       "      <td>Europa</td>\n",
       "      <td>2020</td>\n",
       "    </tr>\n",
       "    <tr>\n",
       "      <th>...</th>\n",
       "      <td>...</td>\n",
       "      <td>...</td>\n",
       "      <td>...</td>\n",
       "      <td>...</td>\n",
       "      <td>...</td>\n",
       "      <td>...</td>\n",
       "      <td>...</td>\n",
       "    </tr>\n",
       "    <tr>\n",
       "      <th>75</th>\n",
       "      <td>Israel</td>\n",
       "      <td>0</td>\n",
       "      <td>0</td>\n",
       "      <td>1</td>\n",
       "      <td>1</td>\n",
       "      <td>Asia</td>\n",
       "      <td>2000</td>\n",
       "    </tr>\n",
       "    <tr>\n",
       "      <th>76</th>\n",
       "      <td>Kuwait</td>\n",
       "      <td>0</td>\n",
       "      <td>0</td>\n",
       "      <td>1</td>\n",
       "      <td>1</td>\n",
       "      <td>Asia</td>\n",
       "      <td>2000</td>\n",
       "    </tr>\n",
       "    <tr>\n",
       "      <th>77</th>\n",
       "      <td>Quirguistão</td>\n",
       "      <td>0</td>\n",
       "      <td>0</td>\n",
       "      <td>1</td>\n",
       "      <td>1</td>\n",
       "      <td>Asia</td>\n",
       "      <td>2000</td>\n",
       "    </tr>\n",
       "    <tr>\n",
       "      <th>78</th>\n",
       "      <td>Macedônia do Norte</td>\n",
       "      <td>0</td>\n",
       "      <td>0</td>\n",
       "      <td>1</td>\n",
       "      <td>1</td>\n",
       "      <td>Europa</td>\n",
       "      <td>2000</td>\n",
       "    </tr>\n",
       "    <tr>\n",
       "      <th>79</th>\n",
       "      <td>Catar</td>\n",
       "      <td>0</td>\n",
       "      <td>0</td>\n",
       "      <td>1</td>\n",
       "      <td>1</td>\n",
       "      <td>Asia</td>\n",
       "      <td>2000</td>\n",
       "    </tr>\n",
       "  </tbody>\n",
       "</table>\n",
       "<p>505 rows × 7 columns</p>\n",
       "</div>"
      ],
      "text/plain": [
       "                  País  Ouro  Prata  Bronze  Total Continente   Ano\n",
       "0       Estados Unidos    39     41      33    113    America  2020\n",
       "1                China    38     32      18     88       Asia  2020\n",
       "2                Japão    27     14      17     58       Asia  2020\n",
       "3         Grã-Bretanha    22     21      22     65     Europa  2020\n",
       "4                  ROC    20     28      23     71     Europa  2020\n",
       "..                 ...   ...    ...     ...    ...        ...   ...\n",
       "75              Israel     0      0       1      1       Asia  2000\n",
       "76              Kuwait     0      0       1      1       Asia  2000\n",
       "77         Quirguistão     0      0       1      1       Asia  2000\n",
       "78  Macedônia do Norte     0      0       1      1     Europa  2000\n",
       "79               Catar     0      0       1      1       Asia  2000\n",
       "\n",
       "[505 rows x 7 columns]"
      ]
     },
     "execution_count": 44,
     "metadata": {},
     "output_type": "execute_result"
    }
   ],
   "source": [
    "olim_paises"
   ]
  }
 ],
 "metadata": {
  "kernelspec": {
   "display_name": "Python 3",
   "language": "python",
   "name": "python3"
  },
  "language_info": {
   "codemirror_mode": {
    "name": "ipython",
    "version": 3
   },
   "file_extension": ".py",
   "mimetype": "text/x-python",
   "name": "python",
   "nbconvert_exporter": "python",
   "pygments_lexer": "ipython3",
   "version": "3.8.8"
  }
 },
 "nbformat": 4,
 "nbformat_minor": 5
}
